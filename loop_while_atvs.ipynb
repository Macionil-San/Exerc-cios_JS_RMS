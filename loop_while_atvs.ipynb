{
  "nbformat": 4,
  "nbformat_minor": 0,
  "metadata": {
    "colab": {
      "provenance": [],
      "authorship_tag": "ABX9TyPRR3ueSMIwet0McsLVi5+y",
      "include_colab_link": true
    },
    "kernelspec": {
      "name": "python3",
      "display_name": "Python 3"
    },
    "language_info": {
      "name": "python"
    }
  },
  "cells": [
    {
      "cell_type": "markdown",
      "metadata": {
        "id": "view-in-github",
        "colab_type": "text"
      },
      "source": [
        "<a href=\"https://colab.research.google.com/github/Macionil-San/Exerc-cios_JS_RMS/blob/main/loop_while_atvs.ipynb\" target=\"_parent\"><img src=\"https://colab.research.google.com/assets/colab-badge.svg\" alt=\"Open In Colab\"/></a>"
      ]
    },
    {
      "cell_type": "code",
      "execution_count": null,
      "metadata": {
        "colab": {
          "base_uri": "https://localhost:8080/"
        },
        "id": "9gLVgkvqERsa",
        "outputId": "2570dedd-922d-4090-99c6-d25b929763bf"
      },
      "outputs": [
        {
          "output_type": "stream",
          "name": "stdout",
          "text": [
            "Digite sua nota (0 a 10): 11\n",
            "nota invalida, tenta de novo\n",
            "Digite sua nota (0 a 10): 14\n",
            "nota invalida, tenta de novo\n",
            "Digite sua nota (0 a 10): 10\n",
            "parabens pela sua nota\n"
          ]
        }
      ],
      "source": [
        "#EX 1\n",
        "while True:\n",
        "\n",
        "  nota=int(input(\"Digite sua nota (0 a 10): \"))\n",
        "  if nota >= 0 and nota <= 10:\n",
        "    print(f\"parabens pela sua nota\")\n",
        "    break\n",
        "  else:\n",
        "    print (\"nota invalida, tenta de novo\")\n",
        "\n",
        "\n"
      ]
    },
    {
      "cell_type": "code",
      "source": [
        "from google.colab import drive\n",
        "drive.mount('/content/drive')"
      ],
      "metadata": {
        "id": "zUaqOSlbBCwX"
      },
      "execution_count": null,
      "outputs": []
    },
    {
      "cell_type": "code",
      "source": [
        "#EX 2\n",
        "notas = []\n",
        "while True:\n",
        "    nota = float(input(\"Digite as notas (para terminar escreva -1): \"))\n",
        "    if nota == -1:\n",
        "        break\n",
        "    notas.append(nota)\n",
        "\n",
        "if notas:\n",
        "    media = sum(notas) / len(notas)\n",
        "    print(f\"A média das notas é: {media}\")\n",
        "else:\n",
        "    print(\"Nenhuma nota foi inserida.\")\n"
      ],
      "metadata": {
        "colab": {
          "base_uri": "https://localhost:8080/"
        },
        "id": "sYMwB03oLyQI",
        "outputId": "6c6a0798-42c4-411a-aad3-d2403d80249b"
      },
      "execution_count": null,
      "outputs": [
        {
          "output_type": "stream",
          "name": "stdout",
          "text": [
            "Digite as notas (para terminar escreva -1): 5\n",
            "Digite as notas (para terminar escreva -1): 10\n",
            "Digite as notas (para terminar escreva -1): -1\n",
            "A média das notas é: 7.5\n"
          ]
        }
      ]
    },
    {
      "cell_type": "code",
      "source": [
        "#EX 3\n",
        "\n",
        "quant = int(input(\"Digite a quantidade de turmas: \"))\n",
        "\n",
        "totalAlunos = 0\n",
        "contado = 0\n",
        "\n",
        "while contado < quant:\n",
        "    quantiA = int(input(f\"Digite a quantidade de alunos para a turma {contado + 1}: \"))\n",
        "    if quantiA > 40:\n",
        "        print(\"A quantidade de alunos por turma não pode ser maior que 40. Tenta de novo.\")\n",
        "        continue\n",
        "    totalAlunos += quantiA\n",
        "    contado += 1\n",
        "\n",
        "mediaAlunos = totalAlunos / quant\n",
        "print(f\"A média de alunos por turma é: {mediaAlunos}\")\n",
        "\n",
        "\n"
      ],
      "metadata": {
        "colab": {
          "base_uri": "https://localhost:8080/"
        },
        "id": "5gR6RTIqQZkO",
        "outputId": "e952543b-7866-4116-d40f-0dc7572e4110"
      },
      "execution_count": null,
      "outputs": [
        {
          "output_type": "stream",
          "name": "stdout",
          "text": [
            "Digite a quantidade de turmas: 1\n",
            "Digite a quantidade de alunos para a turma 1: 50\n",
            "A quantidade de alunos por turma não pode ser maior que 40. Tente novamente.\n",
            "Digite a quantidade de alunos para a turma 1: 0400\n",
            "A quantidade de alunos por turma não pode ser maior que 40. Tente novamente.\n",
            "Digite a quantidade de alunos para a turma 1: 13\n",
            "A média de alunos por turma é: 13.0\n"
          ]
        }
      ]
    },
    {
      "cell_type": "code",
      "source": [
        "#EX 4\n",
        "\n",
        "num = input(\"digite o número: \")\n",
        "totalDig = len(num)\n",
        "print(f\"total de figitos: {totalDig}\")"
      ],
      "metadata": {
        "colab": {
          "base_uri": "https://localhost:8080/"
        },
        "id": "yFtXz6TvUq9o",
        "outputId": "7f10e6d1-3f90-40c9-a4f8-1670690d2096"
      },
      "execution_count": null,
      "outputs": [
        {
          "output_type": "stream",
          "name": "stdout",
          "text": [
            "digite o número: 100\n",
            "total de figitos: 3\n"
          ]
        }
      ]
    },
    {
      "cell_type": "code",
      "source": [
        "#EX 5\n",
        "\n",
        "while True:\n",
        "  senha1= input(\"senha: \")\n",
        "  senha2= input(\"confirma a senha: \")\n",
        "  if senha1 == senha2:\n",
        "    print(\"senha ta certa\")\n",
        "    break\n",
        "  else:\n",
        "   print(\"senha incorreta, tenta de novo\")"
      ],
      "metadata": {
        "colab": {
          "base_uri": "https://localhost:8080/"
        },
        "id": "jvXxlUy_WQyN",
        "outputId": "40c12c8e-8179-42aa-95a8-7c536a89fb4c"
      },
      "execution_count": null,
      "outputs": [
        {
          "output_type": "stream",
          "name": "stdout",
          "text": [
            "senha: 1\n",
            "confirma a senha: 2\n",
            "senha incorreta, tenta de novo\n",
            "senha: 1\n",
            "confirma a senha: 1\n",
            "senha ta certa\n"
          ]
        }
      ]
    },
    {
      "cell_type": "code",
      "source": [
        "#EX 6\n",
        "\n",
        "somaTotal = 0\n",
        "while True:\n",
        "    num = int(input(\"Digite um número (aperta 0 pra acabar): \"))\n",
        "    if num == 0:\n",
        "        break\n",
        "    somaTotal += num\n",
        "\n",
        "print(f\"A soma dos números digitados é: {somaTotal}\")\n",
        "\n"
      ],
      "metadata": {
        "colab": {
          "base_uri": "https://localhost:8080/"
        },
        "id": "0-JhmVEP6D6x",
        "outputId": "ec0f52e2-a1bf-464a-f22d-65665705cc1d"
      },
      "execution_count": null,
      "outputs": [
        {
          "output_type": "stream",
          "name": "stdout",
          "text": [
            "Digite um número (aperta 0 pra acabar): 5\n",
            "Digite um número (aperta 0 pra acabar): 35\n",
            "Digite um número (aperta 0 pra acabar): 2\n",
            "Digite um número (aperta 0 pra acabar): 0\n",
            "A soma dos números digitados é: 42\n"
          ]
        }
      ]
    },
    {
      "cell_type": "code",
      "source": [
        "# TABUADA\n",
        "\n",
        "while True:\n",
        "    num = int(input(\"Digite um número para treinar a tabuada (0 você para parar): \"))\n",
        "    if num == 0:\n",
        "        break\n",
        "\n",
        "    acerto = 0\n",
        "    erro = 0\n",
        "\n",
        "    multiplicador = 1\n",
        "    while multiplicador <= 10:\n",
        "        resposta = int(input(f\"Qual é o resultado de {num} x {multiplicador}? \"))\n",
        "        resultado = num * multiplicador\n",
        "        if resposta == resultado:\n",
        "            print(\"CORRETO\")\n",
        "            acerto += 1\n",
        "        else:\n",
        "            print(f\"errou, o valor certo é: {resultado}\")\n",
        "            erro += 1\n",
        "        multiplicador += 1\n",
        "\n",
        "    print(f\"_____________________________\")\n",
        "    print(f\"Total de acertos: {acerto}\")\n",
        "    print(f\"_____________________________\")\n",
        "    print(f\"Total de erros: {erro}\")\n",
        "    print(f\"_____________________________\")\n",
        "\n",
        "    continuar = input(\"Deseja começar de novo? (sim/não): \")\n",
        "    if continuar.lower() != 'sim':\n",
        "        break\n",
        "\n"
      ],
      "metadata": {
        "colab": {
          "base_uri": "https://localhost:8080/",
          "height": 356
        },
        "id": "o20DCGrg_UZG",
        "outputId": "b8515c93-fae6-405c-9c84-cf1f730fc0bd"
      },
      "execution_count": null,
      "outputs": [
        {
          "output_type": "error",
          "ename": "KeyboardInterrupt",
          "evalue": "Interrupted by user",
          "traceback": [
            "\u001b[0;31m---------------------------------------------------------------------------\u001b[0m",
            "\u001b[0;31mKeyboardInterrupt\u001b[0m                         Traceback (most recent call last)",
            "\u001b[0;32m<ipython-input-2-2f1132ee7967>\u001b[0m in \u001b[0;36m<cell line: 3>\u001b[0;34m()\u001b[0m\n\u001b[1;32m      2\u001b[0m \u001b[0;34m\u001b[0m\u001b[0m\n\u001b[1;32m      3\u001b[0m \u001b[0;32mwhile\u001b[0m \u001b[0;32mTrue\u001b[0m\u001b[0;34m:\u001b[0m\u001b[0;34m\u001b[0m\u001b[0;34m\u001b[0m\u001b[0m\n\u001b[0;32m----> 4\u001b[0;31m     \u001b[0mnum\u001b[0m \u001b[0;34m=\u001b[0m \u001b[0mint\u001b[0m\u001b[0;34m(\u001b[0m\u001b[0minput\u001b[0m\u001b[0;34m(\u001b[0m\u001b[0;34m\"Digite um número para treinar a tabuada (0 você para): \"\u001b[0m\u001b[0;34m)\u001b[0m\u001b[0;34m)\u001b[0m\u001b[0;34m\u001b[0m\u001b[0;34m\u001b[0m\u001b[0m\n\u001b[0m\u001b[1;32m      5\u001b[0m     \u001b[0;32mif\u001b[0m \u001b[0mnum\u001b[0m \u001b[0;34m==\u001b[0m \u001b[0;36m0\u001b[0m\u001b[0;34m:\u001b[0m\u001b[0;34m\u001b[0m\u001b[0;34m\u001b[0m\u001b[0m\n\u001b[1;32m      6\u001b[0m         \u001b[0;32mbreak\u001b[0m\u001b[0;34m\u001b[0m\u001b[0;34m\u001b[0m\u001b[0m\n",
            "\u001b[0;32m/usr/local/lib/python3.10/dist-packages/ipykernel/kernelbase.py\u001b[0m in \u001b[0;36mraw_input\u001b[0;34m(self, prompt)\u001b[0m\n\u001b[1;32m    849\u001b[0m                 \u001b[0;34m\"raw_input was called, but this frontend does not support input requests.\"\u001b[0m\u001b[0;34m\u001b[0m\u001b[0;34m\u001b[0m\u001b[0m\n\u001b[1;32m    850\u001b[0m             )\n\u001b[0;32m--> 851\u001b[0;31m         return self._input_request(str(prompt),\n\u001b[0m\u001b[1;32m    852\u001b[0m             \u001b[0mself\u001b[0m\u001b[0;34m.\u001b[0m\u001b[0m_parent_ident\u001b[0m\u001b[0;34m,\u001b[0m\u001b[0;34m\u001b[0m\u001b[0;34m\u001b[0m\u001b[0m\n\u001b[1;32m    853\u001b[0m             \u001b[0mself\u001b[0m\u001b[0;34m.\u001b[0m\u001b[0m_parent_header\u001b[0m\u001b[0;34m,\u001b[0m\u001b[0;34m\u001b[0m\u001b[0;34m\u001b[0m\u001b[0m\n",
            "\u001b[0;32m/usr/local/lib/python3.10/dist-packages/ipykernel/kernelbase.py\u001b[0m in \u001b[0;36m_input_request\u001b[0;34m(self, prompt, ident, parent, password)\u001b[0m\n\u001b[1;32m    893\u001b[0m             \u001b[0;32mexcept\u001b[0m \u001b[0mKeyboardInterrupt\u001b[0m\u001b[0;34m:\u001b[0m\u001b[0;34m\u001b[0m\u001b[0;34m\u001b[0m\u001b[0m\n\u001b[1;32m    894\u001b[0m                 \u001b[0;31m# re-raise KeyboardInterrupt, to truncate traceback\u001b[0m\u001b[0;34m\u001b[0m\u001b[0;34m\u001b[0m\u001b[0m\n\u001b[0;32m--> 895\u001b[0;31m                 \u001b[0;32mraise\u001b[0m \u001b[0mKeyboardInterrupt\u001b[0m\u001b[0;34m(\u001b[0m\u001b[0;34m\"Interrupted by user\"\u001b[0m\u001b[0;34m)\u001b[0m \u001b[0;32mfrom\u001b[0m \u001b[0;32mNone\u001b[0m\u001b[0;34m\u001b[0m\u001b[0;34m\u001b[0m\u001b[0m\n\u001b[0m\u001b[1;32m    896\u001b[0m             \u001b[0;32mexcept\u001b[0m \u001b[0mException\u001b[0m \u001b[0;32mas\u001b[0m \u001b[0me\u001b[0m\u001b[0;34m:\u001b[0m\u001b[0;34m\u001b[0m\u001b[0;34m\u001b[0m\u001b[0m\n\u001b[1;32m    897\u001b[0m                 \u001b[0mself\u001b[0m\u001b[0;34m.\u001b[0m\u001b[0mlog\u001b[0m\u001b[0;34m.\u001b[0m\u001b[0mwarning\u001b[0m\u001b[0;34m(\u001b[0m\u001b[0;34m\"Invalid Message:\"\u001b[0m\u001b[0;34m,\u001b[0m \u001b[0mexc_info\u001b[0m\u001b[0;34m=\u001b[0m\u001b[0;32mTrue\u001b[0m\u001b[0;34m)\u001b[0m\u001b[0;34m\u001b[0m\u001b[0;34m\u001b[0m\u001b[0m\n",
            "\u001b[0;31mKeyboardInterrupt\u001b[0m: Interrupted by user"
          ]
        }
      ]
    }
  ]
}